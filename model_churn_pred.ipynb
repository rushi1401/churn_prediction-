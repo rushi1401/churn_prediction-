{
 "cells": [
  {
   "cell_type": "code",
   "execution_count": 1,
   "id": "459a1ed6",
   "metadata": {},
   "outputs": [],
   "source": [
    "import joblib\n",
    "import numpy as np\n",
    "import pandas as pd"
   ]
  },
  {
   "cell_type": "code",
   "execution_count": 2,
   "id": "490ce694",
   "metadata": {},
   "outputs": [],
   "source": [
    "model=joblib.load('grid_search.pkl')"
   ]
  },
  {
   "cell_type": "code",
   "execution_count": 3,
   "id": "dc7980bc",
   "metadata": {},
   "outputs": [
    {
     "name": "stdout",
     "output_type": "stream",
     "text": [
      "Please provide the following information:\n",
      "CustomerID: 44\n",
      "Age: 44\n",
      "Gender (M/F): 1\n",
      "Subscription Length (months): 44\n",
      "Monthly Bill: 787\n",
      "Total Usage (GB): 546\n",
      "Location_Chicago: 0\n",
      "Location_Houston: 0\n",
      "Location_Los Angeles: 1\n",
      "Location_Miami: 0\n",
      "Location_New York: 0\n"
     ]
    },
    {
     "name": "stderr",
     "output_type": "stream",
     "text": [
      "C:\\Users\\rushi\\anaconda3\\lib\\site-packages\\sklearn\\base.py:493: FutureWarning: The feature names should match those that were passed during fit. Starting version 1.2, an error will be raised.\n",
      "Feature names unseen at fit time:\n",
      "- Location_New_York\n",
      "Feature names seen at fit time, yet now missing:\n",
      "- Location_New York\n",
      "\n",
      "  warnings.warn(message, FutureWarning)\n"
     ]
    },
    {
     "name": "stdout",
     "output_type": "stream",
     "text": [
      "The model predicts that the customer is not likely to churn.\n"
     ]
    }
   ],
   "source": [
    "# Collect user input for feature values\n",
    "print(\"Please provide the following information:\")\n",
    "CustomerID=int(input('CustomerID: '))\n",
    "Age = float(input(\"Age: \"))\n",
    "Gender_Male = input(\"Gender (M/F): \")\n",
    "\n",
    "Subscription_Length_Months = float(input(\"Subscription Length (months): \"))\n",
    "Monthly_Bill = float(input(\"Monthly Bill: \"))\n",
    "Total_Usage_GB = float(input(\"Total Usage (GB): \"))\n",
    "Location_Chicago=int(input('Location_Chicago: '))\n",
    "Location_Houston=int(input('Location_Houston: '))\n",
    "Location_Los_Angeles=int(input('Location_Los Angeles: '))\n",
    "Location_Miami=int(input('Location_Miami: '))\n",
    "Location_New_York=int(input('Location_New York: '))\n",
    "\n",
    "\n",
    "\n",
    "# Create a DataFrame with the user input\n",
    "user_input = pd.DataFrame({\n",
    "    'CustomerID':[CustomerID],\n",
    "    'Age': [Age],\n",
    "    'Gender_Male': [Gender_Male],\n",
    "   \n",
    "    'Subscription_Length_Months': [Subscription_Length_Months],\n",
    "    'Monthly_Bill': [Monthly_Bill],\n",
    "    'Total_Usage_GB': [Total_Usage_GB],\n",
    "    'Gender_Male':[Gender_Male],\n",
    "    'Location_Chicago':[Location_Chicago],\n",
    "    'Location_Houston':[Location_Houston],\n",
    "    'Location_Los Angeles':[Location_Los_Angeles],\n",
    "    'Location_Miami':[Location_Miami],\n",
    "    'Location_New_York':[Location_New_York]\n",
    "    \n",
    "})\n",
    "\n",
    "# Make predictions on the user input\n",
    "prediction = model.predict(user_input)\n",
    "\n",
    "# Interpret the prediction\n",
    "if prediction[0] == 1:\n",
    "    print(\"The model predicts that the customer is likely to churn.\")\n",
    "else:\n",
    "    print(\"The model predicts that the customer is not likely to churn.\")\n"
   ]
  },
  {
   "cell_type": "code",
   "execution_count": null,
   "id": "b580f86e",
   "metadata": {},
   "outputs": [],
   "source": []
  }
 ],
 "metadata": {
  "kernelspec": {
   "display_name": "Python 3 (ipykernel)",
   "language": "python",
   "name": "python3"
  },
  "language_info": {
   "codemirror_mode": {
    "name": "ipython",
    "version": 3
   },
   "file_extension": ".py",
   "mimetype": "text/x-python",
   "name": "python",
   "nbconvert_exporter": "python",
   "pygments_lexer": "ipython3",
   "version": "3.9.13"
  }
 },
 "nbformat": 4,
 "nbformat_minor": 5
}
